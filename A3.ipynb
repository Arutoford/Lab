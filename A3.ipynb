{
 "cells": [
  {
   "cell_type": "code",
   "execution_count": 2,
   "id": "82138ceb",
   "metadata": {},
   "outputs": [
    {
     "name": "stdout",
     "output_type": "stream",
     "text": [
      "Metrics on Test Set:\n",
      "Accuracy: 0.019473081328751432\n",
      "Precision: 0.0071409873503709255\n",
      "Matrix:\n",
      " [[0 0 0 ... 0 0 0]\n",
      " [0 0 0 ... 0 0 0]\n",
      " [0 0 0 ... 0 0 0]\n",
      " ...\n",
      " [0 0 0 ... 0 0 0]\n",
      " [0 0 0 ... 0 0 0]\n",
      " [0 0 0 ... 0 0 0]]\n"
     ]
    },
    {
     "name": "stderr",
     "output_type": "stream",
     "text": [
      "C:\\Users\\aruto\\anaconda3\\lib\\site-packages\\sklearn\\metrics\\_classification.py:1344: UndefinedMetricWarning: Precision is ill-defined and being set to 0.0 in labels with no predicted samples. Use `zero_division` parameter to control this behavior.\n",
      "  _warn_prf(average, modifier, msg_start, len(result))\n"
     ]
    }
   ],
   "source": [
    "import pandas as pd\n",
    "import numpy as np\n",
    "from sklearn.naive_bayes import GaussianNB\n",
    "train = pd.read_csv ('Desktop/0.csv')\n",
    "\n",
    "y=train['26.0'].astype('int')\n",
    "x = train.drop('26.0',axis=1)\n",
    "\n",
    "from sklearn.model_selection import train_test_split, cross_val_score\n",
    "x_train, x_valid, y_train, y_valid = train_test_split(x,y,test_size=0.3,random_state=17)\n",
    "\n",
    "nb_classifier = GaussianNB()\n",
    "nb_classifier.fit(x_train, y_train)\n",
    "\n",
    "from sklearn.metrics import accuracy_score, precision_score, confusion_matrix\n",
    "print('Metrics on Test Set:'\n",
    "      \n",
    "y_pred = nb_classifier.predict(x_valid)\n",
    "      \n",
    "print('Accuracy:', accuracy_score(y_valid, y_pred))\n",
    "print('Precision:',precision_score(y_valid, y_pred, average='macro'))\n",
    "print('Matrix:\\n', confusion_matrix(y_valid, y_pred))\n",
    "\n"
   ]
  },
  {
   "cell_type": "code",
   "execution_count": null,
   "id": "4ee072f6",
   "metadata": {},
   "outputs": [],
   "source": []
  },
  {
   "cell_type": "code",
   "execution_count": null,
   "id": "0b0e4302",
   "metadata": {},
   "outputs": [],
   "source": []
  }
 ],
 "metadata": {
  "kernelspec": {
   "display_name": "Python 3 (ipykernel)",
   "language": "python",
   "name": "python3"
  },
  "language_info": {
   "codemirror_mode": {
    "name": "ipython",
    "version": 3
   },
   "file_extension": ".py",
   "mimetype": "text/x-python",
   "name": "python",
   "nbconvert_exporter": "python",
   "pygments_lexer": "ipython3",
   "version": "3.10.9"
  }
 },
 "nbformat": 4,
 "nbformat_minor": 5
}
